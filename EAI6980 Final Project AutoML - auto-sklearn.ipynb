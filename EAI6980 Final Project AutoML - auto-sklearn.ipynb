{
 "cells": [
  {
   "cell_type": "code",
   "execution_count": 1,
   "id": "83465d6a",
   "metadata": {},
   "outputs": [],
   "source": [
    "# Dependencies for this notebook can be found in requirements_autosklearn.txt\n",
    "\n",
    "# Install dependencies using pip3 install -r requirements_autosklearn.txt\n",
    "\n",
    "# Installation instructions\n",
    "\n",
    "# virtualenv venv_autosklearn\n",
    "# source venv_autosklearn/bin/activate\n",
    "# ipython kernel install --user --name=venv_autosklearn\n",
    "# Start the notebook using `python3 -m jupyter notebook`\n",
    "# In the notebook click on Kernel -> Change kernel -> venv_autokeras\n",
    "# Execute this notebook\n",
    "\n",
    "# Uncomment these lines if not using a kernal specifically for auto-sklearn\n",
    "\n",
    "\n",
    "# import sys\n",
    "# print(sys.executable) \n",
    "\n",
    "# ! /usr/local/opt/python@3.9/bin/python3.9 -m pip install auto-sklearn\n",
    "\n",
    "# You may need to uninstall autogluon using\n",
    "\n",
    "# # ! /usr/local/opt/python@3.9/bin/python3.9 -m pip uninstall autogluon -y"
   ]
  },
  {
   "cell_type": "code",
   "execution_count": 2,
   "id": "16fc0b28",
   "metadata": {},
   "outputs": [],
   "source": [
    "import pandas as pd"
   ]
  },
  {
   "cell_type": "code",
   "execution_count": 3,
   "id": "9b43461b",
   "metadata": {},
   "outputs": [],
   "source": [
    "df = pd.read_csv('data/UNSW_NB15_training-set.csv')"
   ]
  },
  {
   "cell_type": "code",
   "execution_count": 4,
   "id": "b0e7d0fd",
   "metadata": {},
   "outputs": [],
   "source": [
    "df_test = pd.read_csv('data/UNSW_NB15_testing-set.csv')"
   ]
  },
  {
   "cell_type": "code",
   "execution_count": 5,
   "id": "7f1a78a8",
   "metadata": {},
   "outputs": [],
   "source": [
    "df = df.drop(['attack_cat', 'id'], axis=1, errors='ignore')"
   ]
  },
  {
   "cell_type": "code",
   "execution_count": 6,
   "id": "d13abfd0",
   "metadata": {},
   "outputs": [],
   "source": [
    "df_test = df_test.drop(['attack_cat', 'id'], axis=1, errors='ignore')"
   ]
  },
  {
   "cell_type": "code",
   "execution_count": 26,
   "id": "d3f27009",
   "metadata": {},
   "outputs": [],
   "source": [
    "df = df.sample(50000)\n",
    "df_test = df_test.sample(50000)"
   ]
  },
  {
   "cell_type": "code",
   "execution_count": 27,
   "id": "2efa8d1e",
   "metadata": {},
   "outputs": [
    {
     "data": {
      "text/plain": [
       "['dur', 'spkts', 'dpkts', 'sbytes', 'dbytes', 'rate', 'sttl', 'dttl', 'sload', 'dload', 'sloss', 'dloss', 'sinpkt', 'dinpkt', 'sjit', 'djit', 'swin', 'stcpb', 'dtcpb', 'dwin', 'tcprtt', 'synack', 'ackdat', 'smean', 'dmean', 'trans_depth', 'response_body_len', 'ct_srv_src', 'ct_state_ttl', 'ct_dst_ltm', 'ct_src_dport_ltm', 'ct_dst_sport_ltm', 'ct_dst_src_ltm', 'is_ftp_login', 'ct_ftp_cmd', 'ct_flw_http_mthd', 'ct_src_ltm', 'ct_srv_dst', 'is_sm_ips_ports']"
      ]
     },
     "execution_count": 27,
     "metadata": {},
     "output_type": "execute_result"
    }
   ],
   "source": [
    "num_col = [col for col in df.columns if col not in ['label', 'proto', 'service', 'state']]\n",
    "num_col"
   ]
  },
  {
   "cell_type": "code",
   "execution_count": 28,
   "id": "64426691",
   "metadata": {},
   "outputs": [],
   "source": [
    "from sklearn.preprocessing import MinMaxScaler\n",
    "\n",
    "scaler = MinMaxScaler()\n",
    "scaler = scaler.fit(df[num_col])\n",
    "df[num_col] = scaler.transform(df[num_col])\n",
    "\n",
    "\n",
    "scaler_test = MinMaxScaler()\n",
    "scaler_test = scaler_test.fit(df_test[num_col])\n",
    "df_test[num_col] = scaler.transform(df_test[num_col])"
   ]
  },
  {
   "cell_type": "code",
   "execution_count": 29,
   "id": "82ee9d9b",
   "metadata": {},
   "outputs": [],
   "source": [
    "cat_col = ['proto', 'service', 'state']\n",
    "ohe_df = pd.get_dummies(df[cat_col], drop_first = True)\n",
    "df = pd.concat([df, ohe_df], axis = 1)\n",
    "\n",
    "ohe_df_test = pd.get_dummies(df_test[cat_col], drop_first = True)\n",
    "df_test = pd.concat([df_test, ohe_df_test], axis = 1)"
   ]
  },
  {
   "cell_type": "code",
   "execution_count": 30,
   "id": "a8932420",
   "metadata": {},
   "outputs": [],
   "source": [
    "df.drop(cat_col, axis=1, inplace=True, errors='ignore')\n",
    "df_test.drop(cat_col, axis=1, inplace=True, errors='ignore')"
   ]
  },
  {
   "cell_type": "code",
   "execution_count": 32,
   "id": "64833b0d",
   "metadata": {},
   "outputs": [
    {
     "data": {
      "text/plain": [
       "187"
      ]
     },
     "execution_count": 32,
     "metadata": {},
     "output_type": "execute_result"
    }
   ],
   "source": [
    "len(df.columns)"
   ]
  },
  {
   "cell_type": "code",
   "execution_count": 33,
   "id": "b4c4a074",
   "metadata": {},
   "outputs": [
    {
     "data": {
      "text/plain": [
       "189"
      ]
     },
     "execution_count": 33,
     "metadata": {},
     "output_type": "execute_result"
    }
   ],
   "source": [
    "len(df_test.columns)"
   ]
  },
  {
   "cell_type": "code",
   "execution_count": 34,
   "id": "eeb48ed7",
   "metadata": {},
   "outputs": [],
   "source": [
    "df_test = df_test[[col for col in df_test.columns if col in df.columns]]"
   ]
  },
  {
   "cell_type": "code",
   "execution_count": 35,
   "id": "fdedacf0",
   "metadata": {},
   "outputs": [
    {
     "data": {
      "text/plain": [
       "186"
      ]
     },
     "execution_count": 35,
     "metadata": {},
     "output_type": "execute_result"
    }
   ],
   "source": [
    "len(df_test.columns)"
   ]
  },
  {
   "cell_type": "code",
   "execution_count": 36,
   "id": "cf0f7c59",
   "metadata": {},
   "outputs": [],
   "source": [
    "df = df[[col for col in df.columns if col in df_test.columns]]"
   ]
  },
  {
   "cell_type": "code",
   "execution_count": 37,
   "id": "fd1924c9",
   "metadata": {},
   "outputs": [
    {
     "data": {
      "text/plain": [
       "186"
      ]
     },
     "execution_count": 37,
     "metadata": {},
     "output_type": "execute_result"
    }
   ],
   "source": [
    "len(df.columns)"
   ]
  },
  {
   "cell_type": "code",
   "execution_count": 39,
   "id": "dfbe9fa1",
   "metadata": {},
   "outputs": [
    {
     "data": {
      "text/html": [
       "<div>\n",
       "<style scoped>\n",
       "    .dataframe tbody tr th:only-of-type {\n",
       "        vertical-align: middle;\n",
       "    }\n",
       "\n",
       "    .dataframe tbody tr th {\n",
       "        vertical-align: top;\n",
       "    }\n",
       "\n",
       "    .dataframe thead th {\n",
       "        text-align: right;\n",
       "    }\n",
       "</style>\n",
       "<table border=\"1\" class=\"dataframe\">\n",
       "  <thead>\n",
       "    <tr style=\"text-align: right;\">\n",
       "      <th></th>\n",
       "      <th>dur</th>\n",
       "      <th>spkts</th>\n",
       "      <th>dpkts</th>\n",
       "      <th>sbytes</th>\n",
       "      <th>dbytes</th>\n",
       "      <th>rate</th>\n",
       "      <th>sttl</th>\n",
       "      <th>dttl</th>\n",
       "      <th>sload</th>\n",
       "      <th>dload</th>\n",
       "      <th>...</th>\n",
       "      <th>service_pop3</th>\n",
       "      <th>service_radius</th>\n",
       "      <th>service_smtp</th>\n",
       "      <th>service_snmp</th>\n",
       "      <th>service_ssh</th>\n",
       "      <th>service_ssl</th>\n",
       "      <th>state_FIN</th>\n",
       "      <th>state_INT</th>\n",
       "      <th>state_REQ</th>\n",
       "      <th>state_RST</th>\n",
       "    </tr>\n",
       "  </thead>\n",
       "  <tbody>\n",
       "    <tr>\n",
       "      <th>55012</th>\n",
       "      <td>6.666668e-08</td>\n",
       "      <td>0.000094</td>\n",
       "      <td>0.000000</td>\n",
       "      <td>0.000006</td>\n",
       "      <td>0.000000</td>\n",
       "      <td>0.250000</td>\n",
       "      <td>0.996078</td>\n",
       "      <td>0.000000</td>\n",
       "      <td>0.021640</td>\n",
       "      <td>0.000000</td>\n",
       "      <td>...</td>\n",
       "      <td>0</td>\n",
       "      <td>0</td>\n",
       "      <td>0</td>\n",
       "      <td>0</td>\n",
       "      <td>0</td>\n",
       "      <td>0</td>\n",
       "      <td>0</td>\n",
       "      <td>1</td>\n",
       "      <td>0</td>\n",
       "      <td>0</td>\n",
       "    </tr>\n",
       "    <tr>\n",
       "      <th>43909</th>\n",
       "      <td>5.862334e-03</td>\n",
       "      <td>0.000845</td>\n",
       "      <td>0.000776</td>\n",
       "      <td>0.000099</td>\n",
       "      <td>0.000026</td>\n",
       "      <td>0.000043</td>\n",
       "      <td>0.996078</td>\n",
       "      <td>0.996047</td>\n",
       "      <td>0.000006</td>\n",
       "      <td>0.000275</td>\n",
       "      <td>...</td>\n",
       "      <td>0</td>\n",
       "      <td>0</td>\n",
       "      <td>0</td>\n",
       "      <td>0</td>\n",
       "      <td>0</td>\n",
       "      <td>0</td>\n",
       "      <td>1</td>\n",
       "      <td>0</td>\n",
       "      <td>0</td>\n",
       "      <td>0</td>\n",
       "    </tr>\n",
       "    <tr>\n",
       "      <th>58994</th>\n",
       "      <td>1.666667e-07</td>\n",
       "      <td>0.000094</td>\n",
       "      <td>0.000000</td>\n",
       "      <td>0.000006</td>\n",
       "      <td>0.000000</td>\n",
       "      <td>0.100000</td>\n",
       "      <td>0.996078</td>\n",
       "      <td>0.000000</td>\n",
       "      <td>0.008656</td>\n",
       "      <td>0.000000</td>\n",
       "      <td>...</td>\n",
       "      <td>0</td>\n",
       "      <td>0</td>\n",
       "      <td>0</td>\n",
       "      <td>0</td>\n",
       "      <td>0</td>\n",
       "      <td>0</td>\n",
       "      <td>0</td>\n",
       "      <td>1</td>\n",
       "      <td>0</td>\n",
       "      <td>0</td>\n",
       "    </tr>\n",
       "    <tr>\n",
       "      <th>35443</th>\n",
       "      <td>7.562168e-04</td>\n",
       "      <td>0.000470</td>\n",
       "      <td>0.001035</td>\n",
       "      <td>0.000021</td>\n",
       "      <td>0.000175</td>\n",
       "      <td>0.000287</td>\n",
       "      <td>0.121569</td>\n",
       "      <td>0.114625</td>\n",
       "      <td>0.000009</td>\n",
       "      <td>0.015210</td>\n",
       "      <td>...</td>\n",
       "      <td>0</td>\n",
       "      <td>0</td>\n",
       "      <td>0</td>\n",
       "      <td>0</td>\n",
       "      <td>0</td>\n",
       "      <td>0</td>\n",
       "      <td>1</td>\n",
       "      <td>0</td>\n",
       "      <td>0</td>\n",
       "      <td>0</td>\n",
       "    </tr>\n",
       "    <tr>\n",
       "      <th>40149</th>\n",
       "      <td>1.663334e-05</td>\n",
       "      <td>0.000094</td>\n",
       "      <td>0.000259</td>\n",
       "      <td>0.000008</td>\n",
       "      <td>0.000017</td>\n",
       "      <td>0.003006</td>\n",
       "      <td>0.121569</td>\n",
       "      <td>0.114625</td>\n",
       "      <td>0.000111</td>\n",
       "      <td>0.038465</td>\n",
       "      <td>...</td>\n",
       "      <td>0</td>\n",
       "      <td>0</td>\n",
       "      <td>0</td>\n",
       "      <td>0</td>\n",
       "      <td>0</td>\n",
       "      <td>0</td>\n",
       "      <td>0</td>\n",
       "      <td>0</td>\n",
       "      <td>0</td>\n",
       "      <td>0</td>\n",
       "    </tr>\n",
       "  </tbody>\n",
       "</table>\n",
       "<p>5 rows × 186 columns</p>\n",
       "</div>"
      ],
      "text/plain": [
       "                dur     spkts     dpkts    sbytes    dbytes      rate  \\\n",
       "55012  6.666668e-08  0.000094  0.000000  0.000006  0.000000  0.250000   \n",
       "43909  5.862334e-03  0.000845  0.000776  0.000099  0.000026  0.000043   \n",
       "58994  1.666667e-07  0.000094  0.000000  0.000006  0.000000  0.100000   \n",
       "35443  7.562168e-04  0.000470  0.001035  0.000021  0.000175  0.000287   \n",
       "40149  1.663334e-05  0.000094  0.000259  0.000008  0.000017  0.003006   \n",
       "\n",
       "           sttl      dttl     sload     dload  ...  service_pop3  \\\n",
       "55012  0.996078  0.000000  0.021640  0.000000  ...             0   \n",
       "43909  0.996078  0.996047  0.000006  0.000275  ...             0   \n",
       "58994  0.996078  0.000000  0.008656  0.000000  ...             0   \n",
       "35443  0.121569  0.114625  0.000009  0.015210  ...             0   \n",
       "40149  0.121569  0.114625  0.000111  0.038465  ...             0   \n",
       "\n",
       "       service_radius  service_smtp  service_snmp  service_ssh  service_ssl  \\\n",
       "55012               0             0             0            0            0   \n",
       "43909               0             0             0            0            0   \n",
       "58994               0             0             0            0            0   \n",
       "35443               0             0             0            0            0   \n",
       "40149               0             0             0            0            0   \n",
       "\n",
       "       state_FIN  state_INT  state_REQ  state_RST  \n",
       "55012          0          1          0          0  \n",
       "43909          1          0          0          0  \n",
       "58994          0          1          0          0  \n",
       "35443          1          0          0          0  \n",
       "40149          0          0          0          0  \n",
       "\n",
       "[5 rows x 186 columns]"
      ]
     },
     "execution_count": 39,
     "metadata": {},
     "output_type": "execute_result"
    }
   ],
   "source": [
    "df.head()"
   ]
  },
  {
   "cell_type": "code",
   "execution_count": 40,
   "id": "9c4bc680",
   "metadata": {},
   "outputs": [],
   "source": [
    "X_train = df[[col for col in df.columns if col != 'label']]\n",
    "y_train = df['label']"
   ]
  },
  {
   "cell_type": "code",
   "execution_count": 41,
   "id": "c85e29c3",
   "metadata": {},
   "outputs": [],
   "source": [
    "X_test = df_test[[col for col in df_test.columns if col != 'label']]\n",
    "y_test = df_test['label']"
   ]
  },
  {
   "cell_type": "code",
   "execution_count": 42,
   "id": "ad9d6131",
   "metadata": {},
   "outputs": [],
   "source": [
    "import os\n",
    "\n",
    "os.environ[\"OPENBLAS_NUM_THREADS\"] = \"4\"\n"
   ]
  },
  {
   "cell_type": "code",
   "execution_count": 46,
   "id": "86eea688",
   "metadata": {},
   "outputs": [
    {
     "data": {
      "text/html": [
       "<style>#sk-container-id-3 {color: black;background-color: white;}#sk-container-id-3 pre{padding: 0;}#sk-container-id-3 div.sk-toggleable {background-color: white;}#sk-container-id-3 label.sk-toggleable__label {cursor: pointer;display: block;width: 100%;margin-bottom: 0;padding: 0.3em;box-sizing: border-box;text-align: center;}#sk-container-id-3 label.sk-toggleable__label-arrow:before {content: \"▸\";float: left;margin-right: 0.25em;color: #696969;}#sk-container-id-3 label.sk-toggleable__label-arrow:hover:before {color: black;}#sk-container-id-3 div.sk-estimator:hover label.sk-toggleable__label-arrow:before {color: black;}#sk-container-id-3 div.sk-toggleable__content {max-height: 0;max-width: 0;overflow: hidden;text-align: left;background-color: #f0f8ff;}#sk-container-id-3 div.sk-toggleable__content pre {margin: 0.2em;color: black;border-radius: 0.25em;background-color: #f0f8ff;}#sk-container-id-3 input.sk-toggleable__control:checked~div.sk-toggleable__content {max-height: 200px;max-width: 100%;overflow: auto;}#sk-container-id-3 input.sk-toggleable__control:checked~label.sk-toggleable__label-arrow:before {content: \"▾\";}#sk-container-id-3 div.sk-estimator input.sk-toggleable__control:checked~label.sk-toggleable__label {background-color: #d4ebff;}#sk-container-id-3 div.sk-label input.sk-toggleable__control:checked~label.sk-toggleable__label {background-color: #d4ebff;}#sk-container-id-3 input.sk-hidden--visually {border: 0;clip: rect(1px 1px 1px 1px);clip: rect(1px, 1px, 1px, 1px);height: 1px;margin: -1px;overflow: hidden;padding: 0;position: absolute;width: 1px;}#sk-container-id-3 div.sk-estimator {font-family: monospace;background-color: #f0f8ff;border: 1px dotted black;border-radius: 0.25em;box-sizing: border-box;margin-bottom: 0.5em;}#sk-container-id-3 div.sk-estimator:hover {background-color: #d4ebff;}#sk-container-id-3 div.sk-parallel-item::after {content: \"\";width: 100%;border-bottom: 1px solid gray;flex-grow: 1;}#sk-container-id-3 div.sk-label:hover label.sk-toggleable__label {background-color: #d4ebff;}#sk-container-id-3 div.sk-serial::before {content: \"\";position: absolute;border-left: 1px solid gray;box-sizing: border-box;top: 0;bottom: 0;left: 50%;z-index: 0;}#sk-container-id-3 div.sk-serial {display: flex;flex-direction: column;align-items: center;background-color: white;padding-right: 0.2em;padding-left: 0.2em;position: relative;}#sk-container-id-3 div.sk-item {position: relative;z-index: 1;}#sk-container-id-3 div.sk-parallel {display: flex;align-items: stretch;justify-content: center;background-color: white;position: relative;}#sk-container-id-3 div.sk-item::before, #sk-container-id-3 div.sk-parallel-item::before {content: \"\";position: absolute;border-left: 1px solid gray;box-sizing: border-box;top: 0;bottom: 0;left: 50%;z-index: -1;}#sk-container-id-3 div.sk-parallel-item {display: flex;flex-direction: column;z-index: 1;position: relative;background-color: white;}#sk-container-id-3 div.sk-parallel-item:first-child::after {align-self: flex-end;width: 50%;}#sk-container-id-3 div.sk-parallel-item:last-child::after {align-self: flex-start;width: 50%;}#sk-container-id-3 div.sk-parallel-item:only-child::after {width: 0;}#sk-container-id-3 div.sk-dashed-wrapped {border: 1px dashed gray;margin: 0 0.4em 0.5em 0.4em;box-sizing: border-box;padding-bottom: 0.4em;background-color: white;}#sk-container-id-3 div.sk-label label {font-family: monospace;font-weight: bold;display: inline-block;line-height: 1.2em;}#sk-container-id-3 div.sk-label-container {text-align: center;}#sk-container-id-3 div.sk-container {/* jupyter's `normalize.less` sets `[hidden] { display: none; }` but bootstrap.min.css set `[hidden] { display: none !important; }` so we also need the `!important` here to be able to override the default hidden behavior on the sphinx rendered scikit-learn.org. See: https://github.com/scikit-learn/scikit-learn/issues/21755 */display: inline-block !important;position: relative;}#sk-container-id-3 div.sk-text-repr-fallback {display: none;}</style><div id=\"sk-container-id-3\" class=\"sk-top-container\"><div class=\"sk-text-repr-fallback\"><pre>AutoSklearnClassifier(ensemble_class=&lt;class &#x27;autosklearn.ensembles.ensemble_selection.EnsembleSelection&#x27;&gt;,\n",
       "                      memory_limit=None, per_run_time_limit=60,\n",
       "                      time_left_for_this_task=300,\n",
       "                      tmp_folder=&#x27;/tmp/autosklearn_classification_example_tmp&#x27;)</pre><b>In a Jupyter environment, please rerun this cell to show the HTML representation or trust the notebook. <br />On GitHub, the HTML representation is unable to render, please try loading this page with nbviewer.org.</b></div><div class=\"sk-container\" hidden><div class=\"sk-item\"><div class=\"sk-estimator sk-toggleable\"><input class=\"sk-toggleable__control sk-hidden--visually\" id=\"sk-estimator-id-3\" type=\"checkbox\" checked><label for=\"sk-estimator-id-3\" class=\"sk-toggleable__label sk-toggleable__label-arrow\">AutoSklearnClassifier</label><div class=\"sk-toggleable__content\"><pre>AutoSklearnClassifier(ensemble_class=&lt;class &#x27;autosklearn.ensembles.ensemble_selection.EnsembleSelection&#x27;&gt;,\n",
       "                      memory_limit=None, per_run_time_limit=60,\n",
       "                      time_left_for_this_task=300,\n",
       "                      tmp_folder=&#x27;/tmp/autosklearn_classification_example_tmp&#x27;)</pre></div></div></div></div></div>"
      ],
      "text/plain": [
       "AutoSklearnClassifier(ensemble_class=<class 'autosklearn.ensembles.ensemble_selection.EnsembleSelection'>,\n",
       "                      memory_limit=None, per_run_time_limit=60,\n",
       "                      time_left_for_this_task=300,\n",
       "                      tmp_folder='/tmp/autosklearn_classification_example_tmp')"
      ]
     },
     "execution_count": 46,
     "metadata": {},
     "output_type": "execute_result"
    }
   ],
   "source": [
    "import autosklearn.classification\n",
    "cls = autosklearn.classification.AutoSklearnClassifier(\n",
    "    memory_limit=None,\n",
    "    time_left_for_this_task=300,\n",
    "    per_run_time_limit=60,\n",
    "    tmp_folder=\"/tmp/autosklearn_classification_example_tmp\",\n",
    ")\n",
    "cls.fit(X_train, y_train)"
   ]
  },
  {
   "cell_type": "code",
   "execution_count": 47,
   "id": "76654b68",
   "metadata": {},
   "outputs": [
    {
     "name": "stdout",
     "output_type": "stream",
     "text": [
      "          rank  ensemble_weight               type      cost   duration\n",
      "model_id                                                               \n",
      "2            1             0.56      random_forest  0.027394  29.273229\n",
      "10           2             0.14  gradient_boosting  0.031394  14.351459\n",
      "5            3             0.22           adaboost  0.035818  37.761003\n",
      "9            4             0.08                lda  0.167152   5.792987\n"
     ]
    }
   ],
   "source": [
    "print(cls.leaderboard())"
   ]
  },
  {
   "cell_type": "code",
   "execution_count": 48,
   "id": "006af8d1",
   "metadata": {},
   "outputs": [
    {
     "name": "stdout",
     "output_type": "stream",
     "text": [
      "Pretty printing has been turned ON\n"
     ]
    }
   ],
   "source": [
    "%pprint"
   ]
  },
  {
   "cell_type": "code",
   "execution_count": 50,
   "id": "e8bb19f0",
   "metadata": {},
   "outputs": [
    {
     "name": "stdout",
     "output_type": "stream",
     "text": [
      "Pretty printing has been turned ON\n"
     ]
    }
   ],
   "source": [
    "pprint(cls.show_models(), indent=4)"
   ]
  },
  {
   "cell_type": "code",
   "execution_count": 51,
   "id": "cb30f751",
   "metadata": {},
   "outputs": [
    {
     "data": {
      "text/plain": [
       "{2: {'model_id': 2,\n",
       "  'rank': 1,\n",
       "  'cost': 0.027393939393939415,\n",
       "  'ensemble_weight': 0.56,\n",
       "  'data_preprocessor': <autosklearn.pipeline.components.data_preprocessing.DataPreprocessorChoice at 0x12ff57640>,\n",
       "  'balancing': Balancing(random_state=1),\n",
       "  'feature_preprocessor': <autosklearn.pipeline.components.feature_preprocessing.FeaturePreprocessorChoice at 0x12ff578e0>,\n",
       "  'classifier': <autosklearn.pipeline.components.classification.ClassifierChoice at 0x12ff57e80>,\n",
       "  'sklearn_classifier': RandomForestClassifier(max_features=13, n_estimators=512, n_jobs=1,\n",
       "                         random_state=1, warm_start=True)},\n",
       " 5: {'model_id': 5,\n",
       "  'rank': 2,\n",
       "  'cost': 0.03581818181818186,\n",
       "  'ensemble_weight': 0.22,\n",
       "  'data_preprocessor': <autosklearn.pipeline.components.data_preprocessing.DataPreprocessorChoice at 0x12fa091f0>,\n",
       "  'balancing': Balancing(random_state=1),\n",
       "  'feature_preprocessor': <autosklearn.pipeline.components.feature_preprocessing.FeaturePreprocessorChoice at 0x130319be0>,\n",
       "  'classifier': <autosklearn.pipeline.components.classification.ClassifierChoice at 0x130319670>,\n",
       "  'sklearn_classifier': AdaBoostClassifier(algorithm='SAMME',\n",
       "                     base_estimator=DecisionTreeClassifier(max_depth=8),\n",
       "                     learning_rate=0.02607458507935197, n_estimators=97,\n",
       "                     random_state=1)},\n",
       " 9: {'model_id': 9,\n",
       "  'rank': 3,\n",
       "  'cost': 0.16715151515151516,\n",
       "  'ensemble_weight': 0.08,\n",
       "  'data_preprocessor': <autosklearn.pipeline.components.data_preprocessing.DataPreprocessorChoice at 0x12fe76400>,\n",
       "  'balancing': Balancing(random_state=1, strategy='weighting'),\n",
       "  'feature_preprocessor': <autosklearn.pipeline.components.feature_preprocessing.FeaturePreprocessorChoice at 0x13002f070>,\n",
       "  'classifier': <autosklearn.pipeline.components.classification.ClassifierChoice at 0x13005a790>,\n",
       "  'sklearn_classifier': LinearDiscriminantAnalysis(shrinkage=0.3306135150299744, solver='lsqr',\n",
       "                             tol=0.0007215763283486354)},\n",
       " 10: {'model_id': 10,\n",
       "  'rank': 4,\n",
       "  'cost': 0.03139393939393942,\n",
       "  'ensemble_weight': 0.14,\n",
       "  'data_preprocessor': <autosklearn.pipeline.components.data_preprocessing.DataPreprocessorChoice at 0x12e1e20d0>,\n",
       "  'balancing': Balancing(random_state=1),\n",
       "  'feature_preprocessor': <autosklearn.pipeline.components.feature_preprocessing.FeaturePreprocessorChoice at 0x1303298b0>,\n",
       "  'classifier': <autosklearn.pipeline.components.classification.ClassifierChoice at 0x130329610>,\n",
       "  'sklearn_classifier': HistGradientBoostingClassifier(early_stopping=True,\n",
       "                                 l2_regularization=3.609412172481434e-10,\n",
       "                                 learning_rate=0.05972079854295879, loss='auto',\n",
       "                                 max_iter=512, max_leaf_nodes=4,\n",
       "                                 min_samples_leaf=2, n_iter_no_change=14,\n",
       "                                 random_state=1, validation_fraction=None,\n",
       "                                 warm_start=True)}}"
      ]
     },
     "execution_count": 51,
     "metadata": {},
     "output_type": "execute_result"
    }
   ],
   "source": [
    "cls.show_models()"
   ]
  },
  {
   "cell_type": "code",
   "execution_count": 53,
   "id": "d0242c07",
   "metadata": {},
   "outputs": [
    {
     "name": "stdout",
     "output_type": "stream",
     "text": [
      "Accuracy score 0.6971\n"
     ]
    }
   ],
   "source": [
    "y_hat = cls.predict(X_test)\n",
    "print(\"Accuracy score\", sklearn.metrics.accuracy_score(y_test, y_hat))"
   ]
  },
  {
   "cell_type": "code",
   "execution_count": null,
   "id": "56b5a765",
   "metadata": {},
   "outputs": [],
   "source": []
  },
  {
   "cell_type": "code",
   "execution_count": null,
   "id": "6bc75cbd",
   "metadata": {},
   "outputs": [],
   "source": []
  }
 ],
 "metadata": {
  "kernelspec": {
   "display_name": "env_sklearn",
   "language": "python",
   "name": "env_sklearn"
  },
  "language_info": {
   "codemirror_mode": {
    "name": "ipython",
    "version": 3
   },
   "file_extension": ".py",
   "mimetype": "text/x-python",
   "name": "python",
   "nbconvert_exporter": "python",
   "pygments_lexer": "ipython3",
   "version": "3.9.16"
  }
 },
 "nbformat": 4,
 "nbformat_minor": 5
}
